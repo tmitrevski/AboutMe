{
 "cells": [
  {
   "cell_type": "code",
   "execution_count": 99,
   "metadata": {},
   "outputs": [
    {
     "name": "stdout",
     "output_type": "stream",
     "text": [
      "Financial Analysis\n",
      "----------------------------\n",
      "Total Months: 86\n",
      "Total: $38,382,578.00\n",
      "Average Change: $-2,315.12\n",
      "Greatest Increase in Profits: Feb-2012 $1,926,159.00\n",
      "Greatest Decrease in Profits: Sep-2013 $-2,196,167.00\n"
     ]
    }
   ],
   "source": [
    "import pandas as pd\n",
    "\n",
    "df=pd.read_csv('~/Projects/public/resources/budget_data.csv', sep=',');\n",
    "\n",
    "months = len(df.index);\n",
    "total = df['Profit/Losses'].sum()\n",
    "\n",
    "df['Differences']=df['Profit/Losses'].diff()\n",
    "\n",
    "average_change = df['Differences'].mean()\n",
    "\n",
    "greatest_increase = df.nlargest(1, 'Differences', keep='first')\n",
    "greatest_decrease = df.nsmallest(1, 'Differences', keep='first')\n",
    "\n",
    "print(\"Financial Analysis\")\n",
    "print(\"----------------------------\")\n",
    "\n",
    "months_formatted_text = \"Total Months: {}\".format(months)\n",
    "print(months_formatted_text)\n",
    "\n",
    "total_formatted_text = \"Total: ${:,.2f}\".format(total)\n",
    "print(total_formatted_text)\n",
    "\n",
    "average_change_formatted_text = \"Average Change: ${:,.2f}\".format(average_change)\n",
    "print(average_change_formatted_text)\n",
    "\n",
    "greatest_increase_formatted_text = \"Greatest Increase in Profits: {} ${:,.2f}\".format(greatest_increase['Date'].item(), greatest_increase['Differences'].item())\n",
    "print(greatest_increase_formatted_text)\n",
    "\n",
    "greatest_decrease_formatted_text = \"Greatest Decrease in Profits: {} ${:,.2f}\".format(greatest_decrease['Date'].item(), greatest_decrease['Differences'].item())\n",
    "print(greatest_decrease_formatted_text)"
   ]
  }
 ],
 "metadata": {
  "kernelspec": {
   "display_name": "Python 3",
   "language": "python",
   "name": "python3"
  },
  "language_info": {
   "codemirror_mode": {
    "name": "ipython",
    "version": 3
   },
   "file_extension": ".py",
   "mimetype": "text/x-python",
   "name": "python",
   "nbconvert_exporter": "python",
   "pygments_lexer": "ipython3",
   "version": "3.7.9"
  }
 },
 "nbformat": 4,
 "nbformat_minor": 4
}
