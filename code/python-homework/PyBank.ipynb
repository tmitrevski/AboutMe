{
 "cells": [
  {
   "cell_type": "code",
   "execution_count": 112,
   "metadata": {},
   "outputs": [
    {
     "name": "stdout",
     "output_type": "stream",
     "text": [
      "Financial Analysis\n",
      "---------------------------\n",
      "Total Months: 86\n",
      "Total: $38,382,578.00\n",
      "Average Change: $-2,315.12\n",
      "Greatest Increase in Profits: Feb-2012 $1,926,159.00\n",
      "Greatest Decrease in Profits: Sep-2013 $-2,196,167.00\n",
      "\n"
     ]
    }
   ],
   "source": [
    "import pandas as pd\n",
    "\n",
    "budget_data=pd.read_csv('~/Projects/public/resources/budget_data.csv', sep=','); #Read in the file from my local directory\n",
    "\n",
    "months = len(budget_data.index); # Number of months is equal to the length of the number of indicies, assuming no date duplicates\n",
    "total = budget_data['Profit/Losses'].sum() # Total is just the sum of all Profits and Losses\n",
    "\n",
    "budget_data['Differences']=budget_data['Profit/Losses'].diff() # Add a column with the MTM differences of the Profits and Losses\n",
    "\n",
    "average_change = budget_data['Differences'].mean() # Take the average of all of the differences\n",
    "\n",
    "greatest_increase = budget_data.nlargest(1, 'Differences', keep='first') # Take the largest positive difference\n",
    "greatest_decrease = budget_data.nsmallest(1, 'Differences', keep='first') # Take the largest negative difference\n",
    "\n",
    "filename = \"PyBank Output.txt\"\n",
    "PyBank_output = open(filename, \"w+\") #Open the file for read and write, should create it automatically if it doesn't exist.\n",
    "\n",
    "PyBank_output.write(\"Financial Analysis\\n\") # Below here is writing to the file and string formatting\n",
    "PyBank_output.write(\"---------------------------\\n\")\n",
    "\n",
    "months_formatted_text = \"Total Months: {}\".format(months)\n",
    "PyBank_output.write(months_formatted_text + \"\\n\")\n",
    "\n",
    "total_formatted_text = \"Total: ${:,.2f}\".format(total)\n",
    "PyBank_output.write(total_formatted_text + \"\\n\")\n",
    "\n",
    "average_change_formatted_text = \"Average Change: ${:,.2f}\".format(average_change)\n",
    "PyBank_output.write(average_change_formatted_text + \"\\n\")\n",
    "\n",
    "greatest_increase_formatted_text = \"Greatest Increase in Profits: {} ${:,.2f}\".format(greatest_increase['Date'].item(), greatest_increase['Differences'].item())\n",
    "PyBank_output.write(greatest_increase_formatted_text + \"\\n\")\n",
    "\n",
    "greatest_decrease_formatted_text = \"Greatest Decrease in Profits: {} ${:,.2f}\".format(greatest_decrease['Date'].item(), greatest_decrease['Differences'].item())\n",
    "PyBank_output.write(greatest_decrease_formatted_text  + \"\\n\")\n",
    "\n",
    "PyBank_output.seek(0) # Go back to the beginning of the file\n",
    "print(PyBank_output.read()) # Read the file to the terminal\n",
    "\n",
    "PyBank_output.close() # Close the terminal\n"
   ]
  },
  {
   "cell_type": "code",
   "execution_count": null,
   "metadata": {},
   "outputs": [],
   "source": []
  }
 ],
 "metadata": {
  "kernelspec": {
   "display_name": "Python 3",
   "language": "python",
   "name": "python3"
  },
  "language_info": {
   "codemirror_mode": {
    "name": "ipython",
    "version": 3
   },
   "file_extension": ".py",
   "mimetype": "text/x-python",
   "name": "python",
   "nbconvert_exporter": "python",
   "pygments_lexer": "ipython3",
   "version": "3.7.9"
  }
 },
 "nbformat": 4,
 "nbformat_minor": 4
}
